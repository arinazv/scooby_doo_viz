{
 "cells": [
  {
   "cell_type": "markdown",
   "id": "2c552ceb",
   "metadata": {},
   "source": [
    "This notebook represents the process of creating a scatterplot which shows correlation between the number of monsters and the amount of snacks. Our hypothesis was that the higher the number of monsters, the more food the characters eat. However, the chart shows the opposite. "
   ]
  },
  {
   "cell_type": "code",
   "execution_count": 46,
   "id": "a429f733",
   "metadata": {},
   "outputs": [],
   "source": [
    "import matplotlib\n",
    "import matplotlib.pyplot as plt\n",
    "import pandas as pd\n",
    "import seaborn as sns\n",
    "\n",
    "data_url = 'https://raw.githubusercontent.com/rfordatascience/tidytuesday/master/data/2021/2021-07-13/scoobydoo.csv'\n",
    "scooby = pd.read_csv(data_url)"
   ]
  },
  {
   "cell_type": "code",
   "execution_count": 47,
   "id": "3585c919",
   "metadata": {},
   "outputs": [],
   "source": [
    "monst = scooby[['monster_amount', 'number_of_snacks' ]]\n",
    "\n",
    "k = - 1\n",
    "\n",
    "for i in monst.number_of_snacks:\n",
    "    k = k+1\n",
    "    if i == '1 box':\n",
    "        monst.loc[k,'number_of_snacks'] = 6\n",
    "    elif i =='a couple':\n",
    "        monst.loc[k,'number_of_snacks'] = 2\n",
    "    elif i == 'several':\n",
    "        monst.loc[k,'number_of_snacks'] = 3\n",
    "    elif i == '3 boxes':\n",
    "        monst.loc[k,'number_of_snacks'] = 18\n",
    "    elif i == '2 boxes':\n",
    "        monst.loc[k,'number_of_snacks'] = 12\n",
    "    elif i == 'truck load':\n",
    "        monst.loc[k,'number_of_snacks'] = 25\n",
    "    elif i == 'lifetime supply':\n",
    "        monst.loc[k,'number_of_snacks'] = 0\n",
    "    elif i == 'wheel barrel full':\n",
    "        monst.loc[k,'number_of_snacks'] = 10\n",
    "    elif i == 'several boxes':\n",
    "        monst.loc[k,'number_of_snacks'] = 10 \n"
   ]
  },
  {
   "cell_type": "code",
   "execution_count": 48,
   "id": "27cc0739",
   "metadata": {},
   "outputs": [],
   "source": [
    "monst = monst.dropna(subset=['monster_amount'])\n",
    "monst['monster_amount'] = monst['monster_amount'].astype(int)\n",
    "monst = monst.dropna(subset=['number_of_snacks'])\n",
    "monst['number_of_snacks'] = monst['number_of_snacks'].astype(int)\n"
   ]
  },
  {
   "cell_type": "code",
   "execution_count": 49,
   "id": "61b83884",
   "metadata": {},
   "outputs": [
    {
     "data": {
      "image/png": "[encoded data removed]",
      "text/plain": [
       "<Figure size 432x288 with 1 Axes>"
      ]
     },
     "metadata": {
      "needs_background": "light"
     },
     "output_type": "display_data"
    }
   ],
   "source": [
    "plt.scatter(x = monst.monster_amount, y = monst.number_of_snacks)\n",
    "\n",
    "font = {'weight':'ultralight',\n",
    "        'size'   : 12}\n",
    "matplotlib.rc('font', **font)\n",
    "\n",
    "plt.xlabel('The amount of monsters', fontsize=14)\n",
    "plt.ylabel('The amount of snacks', fontsize=14)\n",
    "\n",
    "plt.savefig('scatterplot.png')"
   ]
  },
  {
   "cell_type": "code",
   "execution_count": null,
   "id": "8b8e442f",
   "metadata": {},
   "outputs": [],
   "source": []
  }
 ],
 "metadata": {
  "kernelspec": {
   "display_name": "Python 3 (ipykernel)",
   "language": "python",
   "name": "python3"
  },
  "language_info": {
   "codemirror_mode": {
    "name": "ipython",
    "version": 3
   },
   "file_extension": ".py",
   "mimetype": "text/x-python",
   "name": "python",
   "nbconvert_exporter": "python",
   "pygments_lexer": "ipython3",
   "version": "3.10.4"
  }
 },
 "nbformat": 4,
 "nbformat_minor": 5
}
